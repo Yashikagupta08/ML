{
  "nbformat": 4,
  "nbformat_minor": 0,
  "metadata": {
    "colab": {
      "name": "DS303",
      "provenance": []
    },
    "kernelspec": {
      "name": "python3",
      "display_name": "Python 3"
    }
  },
  "cells": [
    {
      "cell_type": "markdown",
      "metadata": {
        "id": "YLlwEz1WdjO3"
      },
      "source": [
        "Import Libraries"
      ]
    },
    {
      "cell_type": "code",
      "metadata": {
        "id": "ECtFLzt4cj7E"
      },
      "source": [
        "%matplotlib inline\r\n",
        "import numpy as np\r\n",
        "import pandas as pd\r\n",
        "import matplotlib.pyplot as plt\r\n",
        "import seaborn as sns; sns.set()\r\n",
        "from sklearn import datasets\r\n"
      ],
      "execution_count": 77,
      "outputs": []
    },
    {
      "cell_type": "markdown",
      "metadata": {
        "id": "72C1bbqNdiX0"
      },
      "source": [
        "File Upload"
      ]
    },
    {
      "cell_type": "code",
      "metadata": {
        "colab": {
          "resources": {
            "http://localhost:8080/nbextensions/google.colab/files.js": {
              "data": "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",
              "ok": true,
              "headers": [
                [
                  "content-type",
                  "application/javascript"
                ]
              ],
              "status": 200,
              "status_text": ""
            }
          },
          "base_uri": "https://localhost:8080/",
          "height": 72
        },
        "id": "wuG7xf9ThvSj",
        "outputId": "1f7afc67-19c0-47b9-c6eb-a4f83a30a14f"
      },
      "source": [
        "from google.colab import files\r\n",
        "uploaded = files.upload()"
      ],
      "execution_count": 2,
      "outputs": [
        {
          "output_type": "display_data",
          "data": {
            "text/html": [
              "\n",
              "     <input type=\"file\" id=\"files-d615efb1-6ec0-4f79-b4a4-98bee748b15b\" name=\"files[]\" multiple disabled\n",
              "        style=\"border:none\" />\n",
              "     <output id=\"result-d615efb1-6ec0-4f79-b4a4-98bee748b15b\">\n",
              "      Upload widget is only available when the cell has been executed in the\n",
              "      current browser session. Please rerun this cell to enable.\n",
              "      </output>\n",
              "      <script src=\"/nbextensions/google.colab/files.js\"></script> "
            ],
            "text/plain": [
              "<IPython.core.display.HTML object>"
            ]
          },
          "metadata": {
            "tags": []
          }
        },
        {
          "output_type": "stream",
          "text": [
            "Saving FlightDelays.csv to FlightDelays.csv\n"
          ],
          "name": "stdout"
        }
      ]
    },
    {
      "cell_type": "markdown",
      "metadata": {
        "id": "Hbj1IVDlh7Ih"
      },
      "source": [
        "Read the csv file"
      ]
    },
    {
      "cell_type": "code",
      "metadata": {
        "id": "ZKU2zwAIhv7Q"
      },
      "source": [
        "import io\r\n",
        "df=pd.read_csv('/content/FlightDelays.csv')"
      ],
      "execution_count": 146,
      "outputs": []
    },
    {
      "cell_type": "markdown",
      "metadata": {
        "id": "BqoiuW-xiPWi"
      },
      "source": [
        "**DATA VISUALISATION**\r\n",
        "\r\n",
        "---"
      ]
    },
    {
      "cell_type": "code",
      "metadata": {
        "id": "k8nMo7Szh-aU"
      },
      "source": [
        "# distribution of no. of flights ontime and delayed on every day of week\r\n",
        "Ontime=[0,0,0,0,0,0,0]\r\n",
        "Delay=[0,0,0,0,0,0,0]\r\n",
        "for i in range(2201):\r\n",
        "  if df.iloc[i,12]==\"ontime\":\r\n",
        "    Ontime[df.iloc[i,9]-1]+=1\r\n",
        "  else:\r\n",
        "    Delay[df.iloc[i,9]-1]+=1\r\n",
        "\r\n",
        "\r\n",
        "# distribution of no. of flights ontime and delayed on every day of month\r\n",
        "from itertools import repeat\r\n",
        "Ontime_M=list(repeat(0, 31))\r\n",
        "Delay_M=list(repeat(0,31))\r\n",
        "for i in range(2201):\r\n",
        "  if df.iloc[i,12]==\"ontime\":\r\n",
        "    Ontime_M[df.iloc[i,10]-1]+=1\r\n",
        "  else:\r\n",
        "    Delay_M[df.iloc[i,10]-1]+=1\r\n",
        "\r\n",
        "# distribution of no. of flights ontime and delayed for weather conditions\r\n",
        "Delay_W=[0,0]\r\n",
        "Ontime_W=[0,0]\r\n",
        "for i in range(2201):\r\n",
        "  if df.iloc[i,12]==\"ontime\":\r\n",
        "     Ontime_W[df.iloc[i,8]]+=1\r\n",
        "  else: Delay_W[df.iloc[i,8]]+=1\r\n",
        "\r\n"
      ],
      "execution_count": null,
      "outputs": []
    },
    {
      "cell_type": "markdown",
      "metadata": {
        "id": "hLulquTVjI40"
      },
      "source": [
        "No. of flights v/s Days of Week (Ontime and Delayed)"
      ]
    },
    {
      "cell_type": "code",
      "metadata": {
        "id": "H8h8sqrojITO"
      },
      "source": [
        "fig = plt.figure()\r\n",
        "ax = fig.add_axes([0,0,1,1])\r\n",
        "X = np.arange(7)\r\n",
        "ax.bar(X + 0.00,Ontime,color = 'b', width = 0.25,label=\"Ontime\")\r\n",
        "ax.bar(X+0.25,Delay,color = 'r', width = 0.25,label=\"Delay\")\r\n",
        "plt.xlabel('Days of Week')\r\n",
        "plt.ylabel('No. of flights')\r\n",
        "plt.legend()\r\n",
        "plt.show()"
      ],
      "execution_count": null,
      "outputs": []
    },
    {
      "cell_type": "markdown",
      "metadata": {
        "id": "0rQp89vTZXT9"
      },
      "source": [
        "Weather v/s No. of delayed flights"
      ]
    },
    {
      "cell_type": "code",
      "metadata": {
        "id": "v4RXLVptVCdR"
      },
      "source": [
        "fig = plt.figure()\r\n",
        "ax = fig.add_axes([0,0,1,1])\r\n",
        "X = np.arange(2)\r\n",
        "ax.bar(X + 0.00,Ontime_W,color = 'b', width = 0.1,label=\"Ontime\")\r\n",
        "ax.bar(X,Delay_W,color = 'r', width = 0.1,label=\"Delay\")\r\n",
        "plt.xlabel('Weather')\r\n",
        "plt.ylabel('No. of flights')\r\n",
        "plt.legend()\r\n",
        "plt.show()"
      ],
      "execution_count": null,
      "outputs": []
    },
    {
      "cell_type": "markdown",
      "metadata": {
        "id": "Kul-Ku5Yjcc3"
      },
      "source": [
        "No. of flights v/s Days of Month (Ontime and Delayed)"
      ]
    },
    {
      "cell_type": "code",
      "metadata": {
        "id": "Vvq6FJuTjRcI"
      },
      "source": [
        "fig1 = plt.figure()\r\n",
        "ax1 = fig1.add_axes([0,0,1,1])\r\n",
        "X = np.arange(31)\r\n",
        "ax1.bar(X + 0.00,Ontime_M,color = 'b', width = 0.3,label=\"Ontime\")\r\n",
        "ax1.bar(X+0.3,Delay_M,color = 'r', width = 0.3,label=\"Delay\")\r\n",
        "plt.xlabel('Days of Month')\r\n",
        "plt.ylabel('No. of flights')\r\n",
        "plt.legend()\r\n",
        "plt.show()"
      ],
      "execution_count": null,
      "outputs": []
    },
    {
      "cell_type": "markdown",
      "metadata": {
        "id": "zJNfB1nIjsL_"
      },
      "source": [
        "Histograms"
      ]
    },
    {
      "cell_type": "code",
      "metadata": {
        "id": "rpqgsU1ojf-8"
      },
      "source": [
        "#Distribution of distances\r\n",
        "sns.histplot(df['DISTANCE'],kde = False)\r\n",
        "plt.show()\r\n",
        "\r\n",
        "#distribution of total no of flights on weekdays\r\n",
        "sns.histplot(df['DAY_WEEK'],kde = False)\r\n",
        "plt.show()\r\n",
        "\r\n",
        "#distribution of total no of flights on days of month\r\n",
        "sns.displot(df['DAY_OF_MONTH'],kde=False)\r\n",
        "plt.show()"
      ],
      "execution_count": null,
      "outputs": []
    },
    {
      "cell_type": "markdown",
      "metadata": {
        "id": "UPhrXo5RnLLY"
      },
      "source": [
        "**Adding another feature**"
      ]
    },
    {
      "cell_type": "code",
      "metadata": {
        "id": "uCEfWVw_keWq"
      },
      "source": [
        "#adding another attribute 'delay at origin airport'\r\n",
        "df['DELAY_AT_ORIGIN'] = 60*(df['DEP_TIME']//100-df['CRS_DEP_TIME']//100) + (df['DEP_TIME']%100-df['CRS_DEP_TIME']%100)\r\n",
        "\r\n",
        "#corection for time delay as CRS dept time and dept time are on two different days\r\n",
        "df.iloc[1270,13]=170\r\n",
        "df.iloc[1606,13]=229"
      ],
      "execution_count": 147,
      "outputs": []
    },
    {
      "cell_type": "markdown",
      "metadata": {
        "id": "PBApgQJbnGw3"
      },
      "source": [
        "Box plot for Delay at Origin v/s Origin\r\n",
        "\r\n",
        "\r\n",
        "\r\n"
      ]
    },
    {
      "cell_type": "code",
      "metadata": {
        "id": "sm1PkhcskSsR"
      },
      "source": [
        "#box plot \r\n",
        "fig, ax = plt.subplots(figsize=[6, 16])\r\n",
        "sns.boxplot(\r\n",
        "    data=df,\r\n",
        "    y='DELAY_AT_ORIGIN',\r\n",
        "    x='ORIGIN'\r\n",
        ")\r\n",
        "ax.set_title('Delay at origin in minutes')"
      ],
      "execution_count": null,
      "outputs": []
    },
    {
      "cell_type": "markdown",
      "metadata": {
        "id": "Gm0Jn41hnR5k"
      },
      "source": [
        "Box plot for Delay at Origin v/s Carrier"
      ]
    },
    {
      "cell_type": "code",
      "metadata": {
        "id": "YfkZVnvvk14l"
      },
      "source": [
        "#box plot \r\n",
        "fig, ax = plt.subplots(figsize=[6, 16])\r\n",
        "sns.boxplot(\r\n",
        "    data=df,\r\n",
        "    y='DELAY_AT_ORIGIN',\r\n",
        "    x='CARRIER'\r\n",
        ")\r\n",
        "ax.set_title('Delay at origin in minutes')"
      ],
      "execution_count": null,
      "outputs": []
    },
    {
      "cell_type": "markdown",
      "metadata": {
        "id": "aKUjkKwtq143"
      },
      "source": [
        "**PRE-PROCESSING**"
      ]
    },
    {
      "cell_type": "code",
      "metadata": {
        "id": "cc1qsbB2q1kS"
      },
      "source": [
        "#to convert FL_DATE column to int \r\n",
        "for i in range(2201):\r\n",
        "  df.iloc[i,5]=df.iloc[i,10]"
      ],
      "execution_count": 148,
      "outputs": []
    },
    {
      "cell_type": "code",
      "metadata": {
        "id": "dMPYvsUjmy1F"
      },
      "source": [
        "#converting carrier, dest and origin classes to 1,2,3 etc\r\n",
        "cleanup_nums = {\"CARRIER\":     {\"CO\": 1, \"DH\": 2,\"DL\":3,\"MQ\":4,\"OH\":5,\"RU\":6,\"UA\":7,\"US\":8},\r\n",
        "                \"DEST\": {\"JFK\": 1, \"LGA\": 2, \"EWR\": 3},\r\n",
        "                \"ORIGIN\": {\"DCA\":1,\"IAD\":2,\"BWI\":3}\r\n",
        "                }\r\n",
        "\r\n",
        "df = df.replace(cleanup_nums)\r\n"
      ],
      "execution_count": 149,
      "outputs": []
    },
    {
      "cell_type": "code",
      "metadata": {
        "id": "F7iWUczZuhJi"
      },
      "source": [
        "#converting TAIL_NUM string to int, for example N940CA is converted to 94031 \r\n",
        "for i in range(2201):\r\n",
        "  df.iloc[i,11]=df.iloc[i,11][1:6]\r\n",
        "  a=df.iloc[i,11][-1]\r\n",
        "  b=df.iloc[i,11][-2]\r\n",
        "  df.iloc[i,11] = df.iloc[i,11][:-2]\r\n",
        "  try:\r\n",
        "    m=int(a)\r\n",
        "  except:\r\n",
        "    a=str(ord(a)-64)\r\n",
        "    df.iloc[i,11] = df.iloc[i,11]+a\r\n",
        "  try:\r\n",
        "    m=int(b)\r\n",
        "  except:\r\n",
        "    b=str(ord(b)-64)\r\n",
        "    df.iloc[i,11] = df.iloc[i,11]+b\r\n",
        "    df.iloc[i,11] = int(df.iloc[i,11])\r\n",
        "\r\n"
      ],
      "execution_count": 150,
      "outputs": []
    },
    {
      "cell_type": "code",
      "metadata": {
        "colab": {
          "base_uri": "https://localhost:8080/",
          "height": 204
        },
        "id": "KI3maxtbdSQc",
        "outputId": "d24cee4d-ce25-4c01-fdde-2ae1286c327a"
      },
      "source": [
        "df.head()"
      ],
      "execution_count": 108,
      "outputs": [
        {
          "output_type": "execute_result",
          "data": {
            "text/html": [
              "<div>\n",
              "<style scoped>\n",
              "    .dataframe tbody tr th:only-of-type {\n",
              "        vertical-align: middle;\n",
              "    }\n",
              "\n",
              "    .dataframe tbody tr th {\n",
              "        vertical-align: top;\n",
              "    }\n",
              "\n",
              "    .dataframe thead th {\n",
              "        text-align: right;\n",
              "    }\n",
              "</style>\n",
              "<table border=\"1\" class=\"dataframe\">\n",
              "  <thead>\n",
              "    <tr style=\"text-align: right;\">\n",
              "      <th></th>\n",
              "      <th>CRS_DEP_TIME</th>\n",
              "      <th>CARRIER</th>\n",
              "      <th>DEP_TIME</th>\n",
              "      <th>DEST</th>\n",
              "      <th>DISTANCE</th>\n",
              "      <th>FL_DATE</th>\n",
              "      <th>FL_NUM</th>\n",
              "      <th>ORIGIN</th>\n",
              "      <th>Weather</th>\n",
              "      <th>DAY_WEEK</th>\n",
              "      <th>DAY_OF_MONTH</th>\n",
              "      <th>TAIL_NUM</th>\n",
              "      <th>Flight Status</th>\n",
              "      <th>DELAY_AT_ORIGIN</th>\n",
              "    </tr>\n",
              "  </thead>\n",
              "  <tbody>\n",
              "    <tr>\n",
              "      <th>0</th>\n",
              "      <td>1455</td>\n",
              "      <td>5</td>\n",
              "      <td>1455</td>\n",
              "      <td>1</td>\n",
              "      <td>184</td>\n",
              "      <td>1</td>\n",
              "      <td>5935</td>\n",
              "      <td>3</td>\n",
              "      <td>0</td>\n",
              "      <td>4</td>\n",
              "      <td>1</td>\n",
              "      <td>94013</td>\n",
              "      <td>ontime</td>\n",
              "      <td>0</td>\n",
              "    </tr>\n",
              "    <tr>\n",
              "      <th>1</th>\n",
              "      <td>1640</td>\n",
              "      <td>2</td>\n",
              "      <td>1640</td>\n",
              "      <td>1</td>\n",
              "      <td>213</td>\n",
              "      <td>1</td>\n",
              "      <td>6155</td>\n",
              "      <td>1</td>\n",
              "      <td>0</td>\n",
              "      <td>4</td>\n",
              "      <td>1</td>\n",
              "      <td>405106</td>\n",
              "      <td>ontime</td>\n",
              "      <td>0</td>\n",
              "    </tr>\n",
              "    <tr>\n",
              "      <th>2</th>\n",
              "      <td>1245</td>\n",
              "      <td>2</td>\n",
              "      <td>1245</td>\n",
              "      <td>2</td>\n",
              "      <td>229</td>\n",
              "      <td>1</td>\n",
              "      <td>7208</td>\n",
              "      <td>2</td>\n",
              "      <td>0</td>\n",
              "      <td>4</td>\n",
              "      <td>1</td>\n",
              "      <td>695182</td>\n",
              "      <td>ontime</td>\n",
              "      <td>0</td>\n",
              "    </tr>\n",
              "    <tr>\n",
              "      <th>3</th>\n",
              "      <td>1715</td>\n",
              "      <td>2</td>\n",
              "      <td>1709</td>\n",
              "      <td>2</td>\n",
              "      <td>229</td>\n",
              "      <td>1</td>\n",
              "      <td>7215</td>\n",
              "      <td>2</td>\n",
              "      <td>0</td>\n",
              "      <td>4</td>\n",
              "      <td>1</td>\n",
              "      <td>662182</td>\n",
              "      <td>ontime</td>\n",
              "      <td>-6</td>\n",
              "    </tr>\n",
              "    <tr>\n",
              "      <th>4</th>\n",
              "      <td>1039</td>\n",
              "      <td>2</td>\n",
              "      <td>1035</td>\n",
              "      <td>2</td>\n",
              "      <td>229</td>\n",
              "      <td>1</td>\n",
              "      <td>7792</td>\n",
              "      <td>2</td>\n",
              "      <td>0</td>\n",
              "      <td>4</td>\n",
              "      <td>1</td>\n",
              "      <td>698182</td>\n",
              "      <td>ontime</td>\n",
              "      <td>-4</td>\n",
              "    </tr>\n",
              "  </tbody>\n",
              "</table>\n",
              "</div>"
            ],
            "text/plain": [
              "   CRS_DEP_TIME  CARRIER  DEP_TIME  ...  TAIL_NUM  Flight Status DELAY_AT_ORIGIN\n",
              "0          1455        5      1455  ...     94013         ontime               0\n",
              "1          1640        2      1640  ...    405106         ontime               0\n",
              "2          1245        2      1245  ...    695182         ontime               0\n",
              "3          1715        2      1709  ...    662182         ontime              -6\n",
              "4          1039        2      1035  ...    698182         ontime              -4\n",
              "\n",
              "[5 rows x 14 columns]"
            ]
          },
          "metadata": {
            "tags": []
          },
          "execution_count": 108
        }
      ]
    },
    {
      "cell_type": "markdown",
      "metadata": {
        "id": "7zYsNR6Eu8h-"
      },
      "source": [
        "Feature Extraction "
      ]
    },
    {
      "cell_type": "code",
      "metadata": {
        "id": "SnlVcFj8u7yc"
      },
      "source": [
        "X = df.iloc[:, :-2].values\r\n",
        "X=np.column_stack((X,df['DELAY_AT_ORIGIN'].values))\r\n",
        "from sklearn.preprocessing import StandardScaler\r\n",
        "# Standardizing the features\r\n",
        "scaler = StandardScaler()\r\n",
        "X = scaler.fit_transform(X)\r\n",
        "Y = df.iloc[:, -2].values\r\n",
        "m,n=X.shape\r\n",
        "Y=Y.reshape((m,1))\r\n",
        "\r\n"
      ],
      "execution_count": 151,
      "outputs": []
    },
    {
      "cell_type": "markdown",
      "metadata": {
        "id": "Blgsu432u_G7"
      },
      "source": [
        "Dividing into training and test data"
      ]
    },
    {
      "cell_type": "code",
      "metadata": {
        "id": "zZOGjtNHvLZw"
      },
      "source": [
        "from sklearn.model_selection import train_test_split\r\n",
        "X_train, X_test, Y_train, Y_test = train_test_split(X, Y, test_size=0.4)\r\n"
      ],
      "execution_count": 139,
      "outputs": []
    },
    {
      "cell_type": "markdown",
      "metadata": {
        "id": "w2jlg7y6vcr8"
      },
      "source": [
        "Training with Logistic Regression Model"
      ]
    },
    {
      "cell_type": "code",
      "metadata": {
        "colab": {
          "base_uri": "https://localhost:8080/"
        },
        "id": "WiC5KORivVJp",
        "outputId": "d2816e65-e7a5-44e2-a511-40d542183764"
      },
      "source": [
        "from sklearn.linear_model import LogisticRegression\r\n",
        "from sklearn.pipeline import make_pipeline\r\n",
        "from sklearn.preprocessing import StandardScaler\r\n",
        "\r\n",
        "logreg = LogisticRegression(C=1e5)\r\n",
        "logreg.fit(X_train, Y_train)\r\n"
      ],
      "execution_count": 140,
      "outputs": [
        {
          "output_type": "stream",
          "text": [
            "/usr/local/lib/python3.7/dist-packages/sklearn/utils/validation.py:760: DataConversionWarning: A column-vector y was passed when a 1d array was expected. Please change the shape of y to (n_samples, ), for example using ravel().\n",
            "  y = column_or_1d(y, warn=True)\n"
          ],
          "name": "stderr"
        },
        {
          "output_type": "execute_result",
          "data": {
            "text/plain": [
              "LogisticRegression(C=100000.0, class_weight=None, dual=False,\n",
              "                   fit_intercept=True, intercept_scaling=1, l1_ratio=None,\n",
              "                   max_iter=100, multi_class='auto', n_jobs=None, penalty='l2',\n",
              "                   random_state=None, solver='lbfgs', tol=0.0001, verbose=0,\n",
              "                   warm_start=False)"
            ]
          },
          "metadata": {
            "tags": []
          },
          "execution_count": 140
        }
      ]
    },
    {
      "cell_type": "markdown",
      "metadata": {
        "id": "Mk1HsYS7xEt1"
      },
      "source": [
        "Prediction"
      ]
    },
    {
      "cell_type": "code",
      "metadata": {
        "id": "YzbWRpWNxGWo"
      },
      "source": [
        "Ypred_dt_train=logreg.predict(X_train)\r\n",
        "Ypred_dt_test=logreg.predict(X_test)"
      ],
      "execution_count": 141,
      "outputs": []
    },
    {
      "cell_type": "markdown",
      "metadata": {
        "id": "WCVBodPVxTw9"
      },
      "source": [
        "Performance of Model"
      ]
    },
    {
      "cell_type": "code",
      "metadata": {
        "colab": {
          "base_uri": "https://localhost:8080/",
          "height": 338
        },
        "id": "cAoCNrn0xB_t",
        "outputId": "eb7c8864-0335-49fc-a68f-9bc21b97b23b"
      },
      "source": [
        "from sklearn.metrics import accuracy_score, f1_score, confusion_matrix,ConfusionMatrixDisplay,classification_report\r\n",
        "print(\"Accuracy in test data: \", accuracy_score(Y_test,Ypred_dt_test))\r\n",
        "print(\"Accuracy of train data: \", accuracy_score(Y_train,Ypred_dt_train))\r\n",
        "cm = confusion_matrix(Y_test, Ypred_dt_test,labels=logreg.classes_)\r\n",
        "disp = ConfusionMatrixDisplay(confusion_matrix=cm,display_labels=logreg.classes_)\r\n",
        "disp.plot()"
      ],
      "execution_count": 142,
      "outputs": [
        {
          "output_type": "stream",
          "text": [
            "Accuracy in test data:  0.9091940976163451\n",
            "Accuracy of train data:  0.9295454545454546\n"
          ],
          "name": "stdout"
        },
        {
          "output_type": "execute_result",
          "data": {
            "text/plain": [
              "<sklearn.metrics._plot.confusion_matrix.ConfusionMatrixDisplay at 0x7f0edfdba0d0>"
            ]
          },
          "metadata": {
            "tags": []
          },
          "execution_count": 142
        },
        {
          "output_type": "display_data",
          "data": {
            "image/png": "[encoded data removed]",
            "text/plain": [
              "<Figure size 432x288 with 2 Axes>"
            ]
          },
          "metadata": {
            "tags": []
          }
        }
      ]
    },
    {
      "cell_type": "code",
      "metadata": {
        "colab": {
          "base_uri": "https://localhost:8080/"
        },
        "id": "ghaFF1ysPKSg",
        "outputId": "239e076e-d481-4fec-d7bd-c4c793e373fd"
      },
      "source": [
        "print(classification_report(Y_test, Ypred_dt_test))"
      ],
      "execution_count": 143,
      "outputs": [
        {
          "output_type": "stream",
          "text": [
            "              precision    recall  f1-score   support\n",
            "\n",
            "     delayed       0.83      0.62      0.71       156\n",
            "      ontime       0.92      0.97      0.95       725\n",
            "\n",
            "    accuracy                           0.91       881\n",
            "   macro avg       0.87      0.79      0.83       881\n",
            "weighted avg       0.90      0.91      0.90       881\n",
            "\n"
          ],
          "name": "stdout"
        }
      ]
    },
    {
      "cell_type": "markdown",
      "metadata": {
        "id": "0BfsGCaCxdGq"
      },
      "source": [
        "Coefficients and Intercept "
      ]
    },
    {
      "cell_type": "code",
      "metadata": {
        "colab": {
          "base_uri": "https://localhost:8080/"
        },
        "id": "LNxJUTTpxqIK",
        "outputId": "57cb4c59-d00f-4388-dc8b-ca36e91e3ce9"
      },
      "source": [
        "print(logreg.coef_,logreg.intercept_)\r\n"
      ],
      "execution_count": 144,
      "outputs": [
        {
          "output_type": "stream",
          "text": [
            "[[ 1.13938369  0.36117496 -1.29541581 -0.31976855 -0.14863163 -0.11183936\n",
            "   0.64239102 -0.29689002 -5.5755909   0.02911057 -0.11183936 -0.36958275\n",
            "  -4.1500293 ]] [0.77427498]\n"
          ],
          "name": "stdout"
        }
      ]
    },
    {
      "cell_type": "markdown",
      "metadata": {
        "id": "1RT9qxT99h95"
      },
      "source": [
        "VARIABLE SELECTION"
      ]
    },
    {
      "cell_type": "code",
      "metadata": {
        "id": "x6KOVbd63wjF"
      },
      "source": [
        "df.drop('FL_DATE', axis=1, inplace=True)\r\n",
        "df.drop('TAIL_NUM', axis=1, inplace=True)\r\n",
        "df.drop('FL_NUM', axis=1, inplace=True)\r\n",
        "df.drop('DEP_TIME', axis=1, inplace=True)\r\n",
        "df.drop('CRS_DEP_TIME', axis=1, inplace=True)\r\n",
        "df.drop('DEST', axis=1, inplace=True)\r\n",
        "df.drop('ORIGIN', axis=1, inplace=True)\r\n",
        "df.drop('DAY_WEEK', axis=1, inplace=True)\r\n"
      ],
      "execution_count": 152,
      "outputs": []
    },
    {
      "cell_type": "markdown",
      "metadata": {
        "id": "3G39WN229qLV"
      },
      "source": [
        "**NEW FEATURE VECTOR**"
      ]
    },
    {
      "cell_type": "code",
      "metadata": {
        "colab": {
          "base_uri": "https://localhost:8080/"
        },
        "id": "ahZWnOdfz4dr",
        "outputId": "290f8981-3b97-4958-fe08-6fd338c51382"
      },
      "source": [
        "X = df.iloc[:, :-2].values\r\n",
        "X=np.column_stack((X,df['DELAY_AT_ORIGIN'].values))\r\n",
        "# Standardizing the features\r\n",
        "scaler = StandardScaler()\r\n",
        "X = scaler.fit_transform(X)\r\n",
        "m,n=X.shape\r\n",
        "print(m,n)\r\n",
        "\r\n",
        "Y = df.iloc[:, -2].values"
      ],
      "execution_count": 153,
      "outputs": [
        {
          "output_type": "stream",
          "text": [
            "2201 7\n"
          ],
          "name": "stdout"
        }
      ]
    },
    {
      "cell_type": "markdown",
      "metadata": {
        "id": "PHD_WHJ59uC3"
      },
      "source": [
        "DIviding into training and test data"
      ]
    },
    {
      "cell_type": "code",
      "metadata": {
        "id": "nuQ3IDp02NZU"
      },
      "source": [
        "from sklearn.model_selection import train_test_split\r\n",
        "X_train, X_test, Y_train, Y_test = train_test_split(X, Y, test_size=0.4)\r\n"
      ],
      "execution_count": 154,
      "outputs": []
    },
    {
      "cell_type": "markdown",
      "metadata": {
        "id": "Jd-vpLHT9yBt"
      },
      "source": [
        "**Training the new model**"
      ]
    },
    {
      "cell_type": "code",
      "metadata": {
        "colab": {
          "base_uri": "https://localhost:8080/"
        },
        "id": "yy-JTKA22XSg",
        "outputId": "6076a47c-f947-4805-eaa2-873a4bcbbd66"
      },
      "source": [
        "from sklearn.linear_model import LogisticRegression\r\n",
        "from sklearn.pipeline import make_pipeline\r\n",
        "from sklearn.preprocessing import StandardScaler\r\n",
        "\r\n",
        "\r\n",
        "\r\n",
        "logreg = LogisticRegression(C=1e5)\r\n",
        "logreg.fit(X_train, Y_train)\r\n",
        "\r\n",
        "\r\n"
      ],
      "execution_count": 155,
      "outputs": [
        {
          "output_type": "execute_result",
          "data": {
            "text/plain": [
              "LogisticRegression(C=100000.0, class_weight=None, dual=False,\n",
              "                   fit_intercept=True, intercept_scaling=1, l1_ratio=None,\n",
              "                   max_iter=100, multi_class='auto', n_jobs=None, penalty='l2',\n",
              "                   random_state=None, solver='lbfgs', tol=0.0001, verbose=0,\n",
              "                   warm_start=False)"
            ]
          },
          "metadata": {
            "tags": []
          },
          "execution_count": 155
        }
      ]
    },
    {
      "cell_type": "markdown",
      "metadata": {
        "id": "qCKUSUmg94NG"
      },
      "source": [
        "Prediction"
      ]
    },
    {
      "cell_type": "code",
      "metadata": {
        "id": "I9NMXChj2pxI"
      },
      "source": [
        "Ypred_dt_train=logreg.predict(X_train)\r\n",
        "Ypred_dt_test=logreg.predict(X_test)"
      ],
      "execution_count": 156,
      "outputs": []
    },
    {
      "cell_type": "markdown",
      "metadata": {
        "id": "H3boV2Oa-AI9"
      },
      "source": [
        "Accuracy"
      ]
    },
    {
      "cell_type": "code",
      "metadata": {
        "colab": {
          "base_uri": "https://localhost:8080/",
          "height": 336
        },
        "id": "ovEUAubD2aLe",
        "outputId": "aa2ebc6b-4544-4289-fdab-5e74289f42ad"
      },
      "source": [
        "from sklearn.metrics import accuracy_score, f1_score, confusion_matrix,ConfusionMatrixDisplay\r\n",
        "print(\"Accuracy in test data: \", accuracy_score(Y_test,Ypred_dt_test))\r\n",
        "print(\"Accuracy of train data: \", accuracy_score(Y_train,Ypred_dt_train))\r\n",
        "cm = confusion_matrix(Y_test, Ypred_dt_test,labels=logreg.classes_)\r\n",
        "disp = ConfusionMatrixDisplay(confusion_matrix=cm,display_labels=logreg.classes_)\r\n",
        "disp.plot()"
      ],
      "execution_count": 157,
      "outputs": [
        {
          "output_type": "stream",
          "text": [
            "Accuracy in test data:  0.9284903518728718\n",
            "Accuracy of train data:  0.918939393939394\n"
          ],
          "name": "stdout"
        },
        {
          "output_type": "execute_result",
          "data": {
            "text/plain": [
              "<sklearn.metrics._plot.confusion_matrix.ConfusionMatrixDisplay at 0x7f0edfd7dcd0>"
            ]
          },
          "metadata": {
            "tags": []
          },
          "execution_count": 157
        },
        {
          "output_type": "display_data",
          "data": {
            "image/png": "[encoded data removed]",
            "text/plain": [
              "<Figure size 432x288 with 2 Axes>"
            ]
          },
          "metadata": {
            "tags": []
          }
        }
      ]
    },
    {
      "cell_type": "code",
      "metadata": {
        "colab": {
          "base_uri": "https://localhost:8080/"
        },
        "id": "9q7iX1wrP1VM",
        "outputId": "29ca0627-25dc-4528-ee30-cabff7218e16"
      },
      "source": [
        "print(classification_report(Y_test, Ypred_dt_test))"
      ],
      "execution_count": 132,
      "outputs": [
        {
          "output_type": "stream",
          "text": [
            "              precision    recall  f1-score   support\n",
            "\n",
            "     delayed       0.90      0.64      0.75       176\n",
            "      ontime       0.92      0.98      0.95       705\n",
            "\n",
            "    accuracy                           0.91       881\n",
            "   macro avg       0.91      0.81      0.85       881\n",
            "weighted avg       0.91      0.91      0.91       881\n",
            "\n"
          ],
          "name": "stdout"
        }
      ]
    },
    {
      "cell_type": "code",
      "metadata": {
        "colab": {
          "base_uri": "https://localhost:8080/"
        },
        "id": "slbgpTI1nzlZ",
        "outputId": "994d8b17-e950-4374-cb5b-4d7261fbcce0"
      },
      "source": [
        ""
      ],
      "execution_count": 131,
      "outputs": [
        {
          "output_type": "stream",
          "text": [
            "(2201, 5)\n"
          ],
          "name": "stdout"
        }
      ]
    }
  ]
}